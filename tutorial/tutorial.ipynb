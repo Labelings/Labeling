{
 "cells": [
  {
   "cell_type": "markdown",
   "metadata": {},
   "source": [
    "# only run this if you need to install any of those packages\n",
    "import sys\n",
    "!conda install --yes --prefix {sys.prefix} tifffile\n",
    "!conda install --yes --prefix {sys.prefix} numpy\n",
    "!conda install --yes --prefix {sys.prefix} matplotlib\n",
    "!conda install --yes --prefix {sys.prefix} scipy\n",
    "!conda install --yes --prefix {sys.prefix} pymongo\n",
    "!conda install --yes --prefix {sys.prefix} colorcet"
   ]
  },
  {
   "cell_type": "markdown",
   "metadata": {},
   "source": [
    "## Import all necessary dependencies"
   ]
  },
  {
   "cell_type": "code",
   "execution_count": 1,
   "metadata": {},
   "outputs": [],
   "source": [
    "import sys\n",
    "import numpy as np\n",
    "np.set_printoptions(threshold=sys.maxsize)\n",
    "from tifffile import imread\n",
    "from PIL import Image,ImageOps, ImageEnhance, ImagePalette\n",
    "from scipy.ndimage import rotate\n",
    "import json\n",
    "import colorcet as cc\n",
    "import matplotlib.pyplot as plt\n",
    "import matplotlib.colors as col"
   ]
  },
  {
   "cell_type": "markdown",
   "metadata": {},
   "source": [
    "## Tutorial preparation: Create both examples\n",
    "The first one is a simple 4x4 matrix flipped around.\n",
    "The second one is a more complex example with 8 images"
   ]
  },
  {
   "cell_type": "code",
   "execution_count": 2,
   "metadata": {},
   "outputs": [],
   "source": [
    "# setting up the  images for the first example\n",
    "a = np.zeros((4,4), np.int32)\n",
    "a[:2] = 1\n",
    "example1_images = []\n",
    "example1_images.append(a)\n",
    "b = a.copy()\n",
    "b[:2] =2\n",
    "example1_images.append(np.flip(b.transpose()))\n",
    "c = a.copy()\n",
    "c[:2] =3\n",
    "example1_images.append(np.flip(c))\n",
    "d = a.copy()\n",
    "d[:2] =4\n",
    "example1_images.append(d.transpose())"
   ]
  },
  {
   "cell_type": "code",
   "execution_count": 3,
   "metadata": {},
   "outputs": [
    {
     "data": {
      "text/plain": [
       "[array([[1, 1, 1, 1],\n",
       "        [1, 1, 1, 1],\n",
       "        [0, 0, 0, 0],\n",
       "        [0, 0, 0, 0]]),\n",
       " array([[0, 0, 2, 2],\n",
       "        [0, 0, 2, 2],\n",
       "        [0, 0, 2, 2],\n",
       "        [0, 0, 2, 2]]),\n",
       " array([[0, 0, 0, 0],\n",
       "        [0, 0, 0, 0],\n",
       "        [3, 3, 3, 3],\n",
       "        [3, 3, 3, 3]]),\n",
       " array([[4, 4, 0, 0],\n",
       "        [4, 4, 0, 0],\n",
       "        [4, 4, 0, 0],\n",
       "        [4, 4, 0, 0]])]"
      ]
     },
     "metadata": {},
     "output_type": "display_data"
    }
   ],
   "source": [
    "display(example1_images)"
   ]
  },
  {
   "cell_type": "code",
   "execution_count": 4,
   "metadata": {},
   "outputs": [],
   "source": [
    "# setting up the images for second example\n",
    "example2_images = []\n",
    "example2_images.append(np.invert(imread(\"up_big.tif\")))\n",
    "example2_images[0][example2_images[0]>0] = 130\n",
    "example2_images.append(rotate(np.transpose(np.flip(example2_images[0]).copy()), angle=45, reshape=False, mode=\"constant\", cval=0))\n",
    "example2_images[1][example2_images[1]>0] = 131\n",
    "example2_images.append(np.transpose(np.flip(example2_images[0]).copy()))\n",
    "example2_images[2][example2_images[2]>0] = 132\n",
    "example2_images.append(rotate(np.flip(example2_images[0]).copy(), angle=45, reshape=False, mode=\"constant\", cval=0))\n",
    "example2_images[3][example2_images[3]>0] = 133\n",
    "example2_images.append(np.flip(example2_images[0]).copy())\n",
    "example2_images[4][example2_images[4]>0] = 134\n",
    "example2_images.append(rotate(np.transpose(example2_images[0]).copy(), angle=45, reshape=False, mode=\"constant\", cval=0))\n",
    "example2_images[5][example2_images[5]>0] = 135\n",
    "example2_images.append(np.transpose(example2_images[0]).copy())\n",
    "example2_images[6][example2_images[6]>0] = 136\n",
    "example2_images.append(rotate(example2_images[0], angle=45, reshape=False, mode=\"constant\", cval=0))\n",
    "example2_images[7][example2_images[7]>0] = 137"
   ]
  },
  {
   "cell_type": "code",
   "execution_count": 5,
   "metadata": {
    "scrolled": true
   },
   "outputs": [
    {
     "data": {
      "text/plain": [
       "<matplotlib.image.AxesImage at 0x1ca5f24bee0>"
      ]
     },
     "execution_count": 5,
     "metadata": {},
     "output_type": "execute_result"
    },
    {
     "data": {
      "image/png": "[encoded data removed]",
      "text/plain": [
       "<Figure size 432x288 with 1 Axes>"
      ]
     },
     "metadata": {
      "needs_background": "light"
     },
     "output_type": "display_data"
    }
   ],
   "source": [
    "plt.imshow(example2_images[2])"
   ]
  },
  {
   "cell_type": "markdown",
   "metadata": {},
   "source": [
    "# Important part starts here\n",
    "\n",
    "\n",
    "## Example 1a: Iterate over all images, simple 4x4 matrix\n",
    "All images must have the same shape and the ids used must be unique, otherwise it is possible that wrong fragments are created."
   ]
  },
  {
   "cell_type": "code",
   "execution_count": 6,
   "metadata": {
    "scrolled": true
   },
   "outputs": [
    {
     "name": "stdout",
     "output_type": "stream",
     "text": [
      "C:\\mpicbg\\workspace_py\\metaseg_py\n"
     ]
    }
   ],
   "source": [
    "cd .."
   ]
  },
  {
   "cell_type": "code",
   "execution_count": 7,
   "metadata": {},
   "outputs": [
    {
     "name": "stdout",
     "output_type": "stream",
     "text": [
      "{'3': 0, '4': 1, '6': 2, '7': 3}\n"
     ]
    }
   ],
   "source": [
    "\n",
    "import Labeling as lb\n",
    "\n",
    "merger = lb.Labeling.fromValues(np.zeros((4, 4), np.int8))\n",
    "merger.iterate_over_images(example1_images, source_ids=['a','b','c','d'])\n",
    "img, labeling = merger.save_result(\"example1\")"
   ]
  },
  {
   "cell_type": "code",
   "execution_count": 8,
   "metadata": {
    "scrolled": true
   },
   "outputs": [
    {
     "data": {
      "text/plain": [
       "array([[2, 2, 0, 0],\n",
       "       [2, 2, 0, 0],\n",
       "       [3, 3, 1, 1],\n",
       "       [3, 3, 1, 1]], dtype=int8)"
      ]
     },
     "metadata": {},
     "output_type": "display_data"
    },
    {
     "data": {
      "text/plain": [
       "{'version': 1,\n",
       " 'numSets': 4,\n",
       " 'numSources': 4,\n",
       " 'indexImg': 'example1.tif',\n",
       " 'labelMapping': {},\n",
       " 'labelSets': {'0': [1, 2], '1': [2, 3], '2': [1, 4], '3': [3, 4]},\n",
       " 'segmentationSource': {'a': [1], 'b': [2], 'c': [3], 'd': [4]}}"
      ]
     },
     "metadata": {},
     "output_type": "display_data"
    }
   ],
   "source": [
    "display(img)\n",
    "display(vars(labeling))"
   ]
  },
  {
   "cell_type": "markdown",
   "metadata": {},
   "source": [
    "## Example 1b: Add patches to the result, here iteration over sliced images\n",
    "A patch is a n by m pixel sized subimage which can be added at any place (described by x,y params) in the result, \n",
    "but the whole patch must be inside the result image.\n",
    "Constraints:\n",
    "n+x <= width of image\n",
    "m+y <= height of image\n",
    "Important code points are marked with a comment"
   ]
  },
  {
   "cell_type": "code",
   "execution_count": 9,
   "metadata": {},
   "outputs": [
    {
     "name": "stdout",
     "output_type": "stream",
     "text": [
      "{'3': 0, '6': 1, '7': 2, '8': 3}\n"
     ]
    }
   ],
   "source": [
    "# Initialize the merger with the first image. This can also be an empty image of zeros in the correct shape\n",
    "merger = lb.Labeling.fromValues(np.zeros((4,4),np.int32))\n",
    "patch_size = 2\n",
    "for image in example1_images:\n",
    "    #start position\n",
    "    x, y = 0, 0\n",
    "    #create 2x2 patches from each image\n",
    "    patches = np.vsplit(image, int(image.shape[0] / patch_size))\n",
    "    patches = [np.hsplit(seg, int(image.shape[1] / patch_size)) for seg in patches]\n",
    "    for patchList in patches:\n",
    "        for patch in patchList:\n",
    "            # add a patch at the defined spot\n",
    "            merger.add_segments(patch, (x, y),  source_id='1')\n",
    "            y += patch_size\n",
    "        y = 0\n",
    "        \n",
    "        x += patch_size\n",
    "img, labeling = merger.save_result(\"example1\")\n",
    "#add_anything(data, (x,y,z):Tuple, merge:dict=None)\n",
    "# returns dict of actual labels dif"
   ]
  },
  {
   "cell_type": "code",
   "execution_count": 10,
   "metadata": {},
   "outputs": [
    {
     "data": {
      "text/plain": [
       "array([[2, 2, 0, 0],\n",
       "       [2, 2, 0, 0],\n",
       "       [3, 3, 1, 1],\n",
       "       [3, 3, 1, 1]])"
      ]
     },
     "metadata": {},
     "output_type": "display_data"
    },
    {
     "data": {
      "text/plain": [
       "{'version': 1,\n",
       " 'numSets': 4,\n",
       " 'numSources': 1,\n",
       " 'indexImg': 'example1.tif',\n",
       " 'labelMapping': {},\n",
       " 'labelSets': {'0': [2, 3], '1': [4, 6], '2': [1, 7], '3': [8, 5]},\n",
       " 'segmentationSource': {'1': [1, 2, 3, 4, 5, 6, 7, 8]}}"
      ]
     },
     "metadata": {},
     "output_type": "display_data"
    }
   ],
   "source": [
    "display(img)\n",
    "display(vars(labeling))"
   ]
  },
  {
   "cell_type": "markdown",
   "metadata": {},
   "source": [
    "### Notice: the two methods do NOT create the same result in terms of values in the image, but the sets are the still the same"
   ]
  },
  {
   "cell_type": "markdown",
   "metadata": {},
   "source": [
    "## Example 2a: Iterate over all images, more complex"
   ]
  },
  {
   "cell_type": "code",
   "execution_count": 11,
   "metadata": {
    "scrolled": true
   },
   "outputs": [
    {
     "name": "stdout",
     "output_type": "stream",
     "text": [
      "{'0': 0, '1': 1, '2': 2, '3': 3, '4': 4, '5': 5, '6': 6, '7': 7, '8': 8, '9': 9, '11': 10, '12': 11, '13': 12, '14': 13, '16': 14, '17': 15, '18': 16, '22': 17, '24': 18, '26': 19, '27': 20, '28': 21, '29': 22, '30': 23, '31': 24, '34': 25, '40': 26, '41': 27, '42': 28, '43': 29, '44': 30, '45': 31, '46': 32, '47': 33, '48': 34, '49': 35, '50': 36, '51': 37, '52': 38, '53': 39, '54': 40, '55': 41, '56': 42, '57': 43, '58': 44, '59': 45, '60': 46, '61': 47, '62': 48, '63': 49, '64': 50, '65': 51, '66': 52}\n"
     ]
    }
   ],
   "source": [
    "merger = lb.Labeling.fromValues(np.zeros((512,512),np.int32))\n",
    "merger.iterate_over_images(example2_images, [str(int) for int in list(range(1,len(example2_images)+1))])\n",
    "img, labeling2 = merger.save_result(\"example2\")"
   ]
  },
  {
   "cell_type": "code",
   "execution_count": 18,
   "metadata": {},
   "outputs": [
    {
     "data": {
      "image/png": "[encoded data removed]",
      "text/plain": [
       "<Figure size 432x288 with 1 Axes>"
      ]
     },
     "metadata": {
      "needs_background": "light"
     },
     "output_type": "display_data"
    }
   ],
   "source": [
    "plt.imshow(img, norm=col.Normalize(vmin=0, vmax=53, clip=True), cmap=cc.cm.glasbey_bw)"
   ]
  },
  {
   "cell_type": "code",
   "execution_count": 14,
   "metadata": {
    "scrolled": true
   },
   "outputs": [
    {
     "data": {
      "text/plain": [
       "{'version': 1,\n",
       " 'numSets': 53,\n",
       " 'numSources': 8,\n",
       " 'indexImg': 'example2.tif',\n",
       " 'labelMapping': {},\n",
       " 'labelSets': {'0': [],\n",
       "  '1': [1],\n",
       "  '2': [2],\n",
       "  '3': [1, 2],\n",
       "  '4': [1, 2, 3],\n",
       "  '5': [2, 3],\n",
       "  '6': [3],\n",
       "  '7': [1, 2, 3, 4],\n",
       "  '8': [2, 3, 4],\n",
       "  '9': [1, 2, 4],\n",
       "  '10': [4],\n",
       "  '11': [3, 4],\n",
       "  '12': [4, 5],\n",
       "  '13': [5],\n",
       "  '14': [3, 4, 5],\n",
       "  '15': [2, 3, 4, 5],\n",
       "  '16': [6],\n",
       "  '17': [2, 6],\n",
       "  '18': [2, 3, 4, 6],\n",
       "  '19': [4, 5, 6],\n",
       "  '20': [5, 6],\n",
       "  '21': [2, 4, 5, 6],\n",
       "  '22': [2, 3, 4, 5, 6],\n",
       "  '23': [3, 4, 5, 6],\n",
       "  '24': [7],\n",
       "  '25': [6, 7],\n",
       "  '26': [4, 5, 6, 7],\n",
       "  '27': [5, 6, 7],\n",
       "  '28': [8],\n",
       "  '29': [8, 1],\n",
       "  '30': [8, 1, 2],\n",
       "  '31': [8, 7],\n",
       "  '32': [8, 1, 7],\n",
       "  '33': [8, 1, 2, 7],\n",
       "  '34': [8, 1, 2, 3],\n",
       "  '35': [8, 6, 7],\n",
       "  '36': [8, 1, 6, 7],\n",
       "  '37': [1, 2, 6, 7, 8],\n",
       "  '38': [1, 2, 3, 4, 8],\n",
       "  '39': [8, 1, 2, 6],\n",
       "  '40': [8, 1, 2, 4],\n",
       "  '41': [1, 2, 4, 6, 8],\n",
       "  '42': [8, 2, 6, 7],\n",
       "  '43': [2, 4, 6, 7, 8],\n",
       "  '44': [8, 4],\n",
       "  '45': [2, 3, 4, 6, 8],\n",
       "  '46': [8, 2, 3, 4],\n",
       "  '47': [8, 4, 6, 7],\n",
       "  '48': [4, 5, 6, 7, 8],\n",
       "  '49': [2, 4, 5, 6, 8],\n",
       "  '50': [8, 5, 6, 7],\n",
       "  '51': [8, 4, 5, 6],\n",
       "  '52': [8, 5, 6]},\n",
       " 'segmentationSource': {'1': [1],\n",
       "  '2': [2],\n",
       "  '3': [3],\n",
       "  '4': [4],\n",
       "  '5': [5],\n",
       "  '6': [6],\n",
       "  '7': [7],\n",
       "  '8': [8]}}"
      ]
     },
     "metadata": {},
     "output_type": "display_data"
    }
   ],
   "source": [
    "display(vars(labeling2))"
   ]
  },
  {
   "cell_type": "markdown",
   "metadata": {},
   "source": [
    "## Example 2b: Add patches to the result, here iteration over sliced images\n",
    "A patch is a n by m pixel sized subimage which can be added at any place (described by x,y params) in the result, \n",
    "but the whole patch must be inside the result image.\n",
    "The size of the patch is not important and may depend on your algorithm to create the patches. There is also no need for it to be quadratic.\n",
    "Constraints:\n",
    "n+x <= width of image\n",
    "m+y <= height of image"
   ]
  },
  {
   "cell_type": "code",
   "execution_count": 21,
   "metadata": {},
   "outputs": [
    {
     "name": "stdout",
     "output_type": "stream",
     "text": [
      "{'0': 0, '1': 1, '2': 2, '3': 3, '4': 4, '5': 5, '6': 6, '7': 7, '8': 8, '10': 9, '11': 10, '17': 11, '18': 12, '19': 13, '20': 14, '21': 15, '22': 16, '23': 17, '25': 18, '26': 19, '27': 20, '28': 21, '29': 22, '32': 23, '40': 24, '41': 25, '42': 26, '43': 27, '44': 28, '45': 29, '46': 30, '47': 31, '48': 32, '49': 33, '50': 34, '51': 35, '52': 36, '53': 37, '56': 38, '57': 39, '58': 40, '59': 41, '62': 42, '63': 43, '67': 44, '68': 45, '69': 46, '70': 47, '71': 48, '75': 49, '77': 50, '78': 51, '79': 52, '80': 53, '84': 54, '85': 55, '86': 56, '87': 57, '88': 58, '89': 59, '91': 60, '92': 61, '93': 62, '94': 63, '95': 64, '101': 65, '102': 66, '103': 67, '104': 68, '106': 69, '108': 70, '109': 71, '110': 72, '111': 73, '112': 74, '113': 75, '114': 76, '115': 77, '116': 78, '117': 79, '118': 80, '119': 81, '120': 82, '121': 83, '122': 84, '131': 85, '139': 86, '140': 87, '141': 88, '143': 89, '144': 90, '145': 91, '146': 92, '147': 93, '148': 94, '149': 95, '150': 96, '151': 97, '152': 98, '153': 99, '154': 100, '155': 101, '156': 102, '157': 103, '158': 104, '159': 105, '160': 106, '161': 107, '162': 108, '163': 109, '167': 110, '168': 111, '169': 112, '171': 113, '180': 114, '181': 115, '182': 116, '183': 117, '184': 118, '185': 119, '186': 120, '189': 121, '190': 122, '191': 123, '192': 124, '193': 125, '194': 126, '195': 127, '196': 128, '197': 129, '198': 130, '199': 131, '200': 132, '201': 133, '202': 134, '203': 135, '204': 136, '205': 137, '206': 138, '207': 139, '208': 140, '209': 141, '210': 142, '211': 143, '212': 144, '213': 145, '214': 146, '215': 147, '216': 148, '217': 149, '218': 150, '219': 151, '220': 152, '221': 153, '222': 154, '223': 155, '224': 156, '225': 157, '226': 158, '227': 159, '228': 160, '229': 161, '230': 162, '231': 163, '232': 164, '233': 165, '234': 166, '235': 167, '236': 168, '237': 169, '238': 170, '239': 171, '240': 172, '241': 173, '242': 174, '243': 175, '244': 176, '245': 177, '246': 178, '247': 179, '248': 180, '249': 181, '250': 182, '251': 183, '252': 184}\n"
     ]
    }
   ],
   "source": [
    "merger = lb.Labeling.fromValues(np.zeros((512,512),np.int32))\n",
    "patch_size = 64 \n",
    "for image, source in zip(example2_images,['a','b','c','d',\n",
    "                                 'e','f','g','h']):\n",
    "    #start position\n",
    "    x, y = 0, 0\n",
    "    #create 64x64 patches from each image\n",
    "    patches = np.vsplit(image, int(image.shape[0] / patch_size))\n",
    "    patches = [np.hsplit(seg, int(image.shape[1] / patch_size)) for seg in patches]\n",
    "    for patchList in patches:\n",
    "        for patch in patchList:\n",
    "            merger.add_segments(patch, (x, y),source_id=source)\n",
    "            y += patch_size\n",
    "        y = 0\n",
    "        x += patch_size\n",
    "img, labeling = merger.save_result(\"example2\")"
   ]
  },
  {
   "cell_type": "code",
   "execution_count": 24,
   "metadata": {
    "scrolled": true
   },
   "outputs": [
    {
     "data": {
      "text/plain": [
       "{'version': 1,\n",
       " 'numSets': 185,\n",
       " 'numSources': 8,\n",
       " 'indexImg': 'example2.tif',\n",
       " 'labelMapping': {},\n",
       " 'labelSets': {'0': [],\n",
       "  '1': [1],\n",
       "  '2': [2],\n",
       "  '3': [3],\n",
       "  '4': [4],\n",
       "  '5': [5],\n",
       "  '6': [6],\n",
       "  '7': [7],\n",
       "  '8': [8],\n",
       "  '9': [10],\n",
       "  '10': [11],\n",
       "  '11': [17],\n",
       "  '12': [18],\n",
       "  '13': [19, 7],\n",
       "  '14': [20],\n",
       "  '15': [8, 20],\n",
       "  '16': [21],\n",
       "  '17': [22],\n",
       "  '18': [24, 11],\n",
       "  '19': [25, 12],\n",
       "  '20': [25],\n",
       "  '21': [26],\n",
       "  '22': [27],\n",
       "  '23': [29, 15],\n",
       "  '24': [24, 35, 11],\n",
       "  '25': [25, 12, 36],\n",
       "  '26': [25, 36],\n",
       "  '27': [26, 37],\n",
       "  '28': [37],\n",
       "  '29': [38],\n",
       "  '30': [39, 29, 15],\n",
       "  '31': [29, 39],\n",
       "  '32': [16, 40, 30],\n",
       "  '33': [40, 30],\n",
       "  '34': [40],\n",
       "  '35': [41, 31],\n",
       "  '36': [41],\n",
       "  '37': [42],\n",
       "  '38': [34, 44],\n",
       "  '39': [44],\n",
       "  '40': [45],\n",
       "  '41': [46],\n",
       "  '42': [49],\n",
       "  '43': [50],\n",
       "  '44': [15, 29, 52, 39],\n",
       "  '45': [52, 29, 39],\n",
       "  '46': [52, 29, 15],\n",
       "  '47': [40, 53, 30],\n",
       "  '48': [40, 53],\n",
       "  '49': [33, 43, 55],\n",
       "  '50': [43, 55],\n",
       "  '51': [56, 34, 44],\n",
       "  '52': [56, 44],\n",
       "  '53': [57, 45],\n",
       "  '54': [48, 60],\n",
       "  '55': [60],\n",
       "  '56': [49, 61],\n",
       "  '57': [61],\n",
       "  '58': [50, 62],\n",
       "  '59': [62],\n",
       "  '60': [64],\n",
       "  '61': [65],\n",
       "  '62': [66],\n",
       "  '63': [67],\n",
       "  '64': [68],\n",
       "  '65': [43, 71, 55],\n",
       "  '66': [33, 43, 71, 55],\n",
       "  '67': [71, 55],\n",
       "  '68': [56, 72, 44],\n",
       "  '69': [74],\n",
       "  '70': [75, 59],\n",
       "  '71': [75, 59, 47],\n",
       "  '72': [75],\n",
       "  '73': [48, 60, 76],\n",
       "  '74': [60, 76],\n",
       "  '75': [77],\n",
       "  '76': [78],\n",
       "  '77': [79],\n",
       "  '78': [79, 63],\n",
       "  '79': [64, 80],\n",
       "  '80': [80],\n",
       "  '81': [81],\n",
       "  '82': [82],\n",
       "  '83': [83],\n",
       "  '84': [84],\n",
       "  '85': [29, 87],\n",
       "  '86': [32, 90],\n",
       "  '87': [54, 90, 70],\n",
       "  '88': [90, 70],\n",
       "  '89': [33, 91, 43, 55],\n",
       "  '90': [33, 91, 55, 71],\n",
       "  '91': [33, 71, 43, 55, 91],\n",
       "  '92': [91, 43, 55, 71],\n",
       "  '93': [91, 55, 71],\n",
       "  '94': [92],\n",
       "  '95': [93],\n",
       "  '96': [94],\n",
       "  '97': [73, 94],\n",
       "  '98': [74, 95],\n",
       "  '99': [58, 74, 95],\n",
       "  '100': [96, 59, 75],\n",
       "  '101': [97],\n",
       "  '102': [98],\n",
       "  '103': [99],\n",
       "  '104': [99, 77],\n",
       "  '105': [100, 78],\n",
       "  '106': [101],\n",
       "  '107': [102],\n",
       "  '108': [103],\n",
       "  '109': [104],\n",
       "  '110': [107],\n",
       "  '111': [108],\n",
       "  '112': [109],\n",
       "  '113': [109, 85],\n",
       "  '114': [111],\n",
       "  '115': [112],\n",
       "  '116': [88, 112],\n",
       "  '117': [113],\n",
       "  '118': [89, 113],\n",
       "  '119': [89, 69, 113],\n",
       "  '120': [90, 114],\n",
       "  '121': [70, 90, 54, 114],\n",
       "  '122': [90, 70, 114],\n",
       "  '123': [115],\n",
       "  '124': [116],\n",
       "  '125': [116, 93],\n",
       "  '126': [117, 94],\n",
       "  '127': [73, 117, 94],\n",
       "  '128': [74, 118, 95],\n",
       "  '129': [119],\n",
       "  '130': [120],\n",
       "  '131': [121],\n",
       "  '132': [122],\n",
       "  '133': [123],\n",
       "  '134': [123, 5],\n",
       "  '135': [124, 6],\n",
       "  '136': [125],\n",
       "  '137': [125, 103],\n",
       "  '138': [126],\n",
       "  '139': [104, 126],\n",
       "  '140': [127],\n",
       "  '141': [9, 127],\n",
       "  '142': [105, 127],\n",
       "  '143': [9, 105, 127],\n",
       "  '144': [128, 10],\n",
       "  '145': [128, 10, 23],\n",
       "  '146': [128, 10, 106],\n",
       "  '147': [24, 129, 11],\n",
       "  '148': [130, 108],\n",
       "  '149': [131, 109],\n",
       "  '150': [13, 131, 109],\n",
       "  '151': [131, 85, 109],\n",
       "  '152': [132, 110, 14],\n",
       "  '153': [132, 14],\n",
       "  '154': [132, 28, 14],\n",
       "  '155': [132, 28, 110, 14],\n",
       "  '156': [132, 110],\n",
       "  '157': [86, 132, 110],\n",
       "  '158': [86, 132, 110, 14],\n",
       "  '159': [132, 110, 14, 86, 28],\n",
       "  '160': [132, 28, 86, 14],\n",
       "  '161': [132, 14, 51, 86, 28],\n",
       "  '162': [86, 28, 110, 132],\n",
       "  '163': [132, 110, 51, 86, 28],\n",
       "  '164': [51, 132],\n",
       "  '165': [29, 133, 15],\n",
       "  '166': [15, 29, 133, 39],\n",
       "  '167': [133, 39, 15, 52, 29],\n",
       "  '168': [52, 29, 133, 15],\n",
       "  '169': [133, 15, 52, 87, 29],\n",
       "  '170': [133, 39, 52, 87, 29],\n",
       "  '171': [52, 29, 133, 39],\n",
       "  '172': [89, 134, 113],\n",
       "  '173': [113, 134],\n",
       "  '174': [90, 114, 135],\n",
       "  '175': [135, 90, 54, 114],\n",
       "  '176': [32, 135, 114, 54, 90],\n",
       "  '177': [70, 135, 114, 54, 90],\n",
       "  '178': [32, 70, 135, 54, 90],\n",
       "  '179': [135, 90, 70, 114],\n",
       "  '180': [70, 90, 54, 135],\n",
       "  '181': [90, 70, 135],\n",
       "  '182': [136, 55],\n",
       "  '183': [33, 136, 43, 55, 91],\n",
       "  '184': [33, 71, 136, 55, 91]},\n",
       " 'segmentationSource': {'a': [1,\n",
       "   2,\n",
       "   3,\n",
       "   4,\n",
       "   5,\n",
       "   6,\n",
       "   7,\n",
       "   8,\n",
       "   9,\n",
       "   10,\n",
       "   11,\n",
       "   12,\n",
       "   13,\n",
       "   14,\n",
       "   15,\n",
       "   16],\n",
       "  'b': [32,\n",
       "   33,\n",
       "   34,\n",
       "   17,\n",
       "   18,\n",
       "   19,\n",
       "   20,\n",
       "   21,\n",
       "   22,\n",
       "   23,\n",
       "   24,\n",
       "   25,\n",
       "   26,\n",
       "   27,\n",
       "   28,\n",
       "   29,\n",
       "   30,\n",
       "   31],\n",
       "  'c': [35, 36, 37, 38, 39, 40, 41, 42, 43, 44, 45, 46, 47, 48, 49, 50],\n",
       "  'd': [64,\n",
       "   65,\n",
       "   66,\n",
       "   67,\n",
       "   68,\n",
       "   51,\n",
       "   52,\n",
       "   53,\n",
       "   54,\n",
       "   55,\n",
       "   56,\n",
       "   57,\n",
       "   58,\n",
       "   59,\n",
       "   60,\n",
       "   61,\n",
       "   62,\n",
       "   63],\n",
       "  'e': [69, 70, 71, 72, 73, 74, 75, 76, 77, 78, 79, 80, 81, 82, 83, 84],\n",
       "  'f': [96,\n",
       "   97,\n",
       "   98,\n",
       "   99,\n",
       "   100,\n",
       "   101,\n",
       "   102,\n",
       "   85,\n",
       "   86,\n",
       "   87,\n",
       "   88,\n",
       "   89,\n",
       "   90,\n",
       "   91,\n",
       "   92,\n",
       "   93,\n",
       "   94,\n",
       "   95],\n",
       "  'g': [103,\n",
       "   104,\n",
       "   105,\n",
       "   106,\n",
       "   107,\n",
       "   108,\n",
       "   109,\n",
       "   110,\n",
       "   111,\n",
       "   112,\n",
       "   113,\n",
       "   114,\n",
       "   115,\n",
       "   116,\n",
       "   117,\n",
       "   118],\n",
       "  'h': [128,\n",
       "   129,\n",
       "   130,\n",
       "   131,\n",
       "   132,\n",
       "   133,\n",
       "   134,\n",
       "   135,\n",
       "   136,\n",
       "   119,\n",
       "   120,\n",
       "   121,\n",
       "   122,\n",
       "   123,\n",
       "   124,\n",
       "   125,\n",
       "   126,\n",
       "   127]}}"
      ]
     },
     "metadata": {},
     "output_type": "display_data"
    }
   ],
   "source": [
    "display(vars(labeling))"
   ]
  },
  {
   "cell_type": "code",
   "execution_count": 25,
   "metadata": {},
   "outputs": [
    {
     "data": {
      "text/plain": [
       "<matplotlib.image.AxesImage at 0x1ca5fa09df0>"
      ]
     },
     "execution_count": 25,
     "metadata": {},
     "output_type": "execute_result"
    },
    {
     "data": {
      "image/png": "[encoded data removed]",
      "text/plain": [
       "<Figure size 432x288 with 1 Axes>"
      ]
     },
     "metadata": {
      "needs_background": "light"
     },
     "output_type": "display_data"
    }
   ],
   "source": [
    "plt.imshow(img, norm=col.Normalize(vmin=0, vmax=253, clip=True), cmap=cc.cm.glasbey_bw)"
   ]
  },
  {
   "cell_type": "markdown",
   "metadata": {},
   "source": [
    "## Example 3: Loading data from file\n",
    "The image is expected to be in the same folder as the .bson-File by default.\n",
    "The examples above provide just that."
   ]
  },
  {
   "cell_type": "code",
   "execution_count": null,
   "metadata": {},
   "outputs": [],
   "source": [
    "loaded_labeling = bc.Labeling.from_file('example1.bson')\n",
    "display(loaded_labeling.img)\n",
    "display(vars(loaded_labeling.labels))"
   ]
  },
  {
   "cell_type": "code",
   "execution_count": null,
   "metadata": {},
   "outputs": [],
   "source": []
  }
 ],
 "metadata": {
  "kernelspec": {
   "display_name": "Python 3",
   "language": "python",
   "name": "python3"
  },
  "language_info": {
   "codemirror_mode": {
    "name": "ipython",
    "version": 3
   },
   "file_extension": ".py",
   "mimetype": "text/x-python",
   "name": "python",
   "nbconvert_exporter": "python",
   "pygments_lexer": "ipython3",
   "version": "3.8.3"
  }
 },
 "nbformat": 4,
 "nbformat_minor": 4
}
