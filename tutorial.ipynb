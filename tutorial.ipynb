{
 "cells": [
  {
   "cell_type": "markdown",
   "metadata": {},
   "source": [
    "# only run this if you need to install any of those packages\n",
    "import sys\n",
    "!conda install --yes --prefix {sys.prefix} tifffile\n",
    "!conda install --yes --prefix {sys.prefix} numpy\n",
    "!conda install --yes --prefix {sys.prefix} matplotlib\n",
    "!conda install --yes --prefix {sys.prefix} scipy\n",
    "!conda install --yes --prefix {sys.prefix} pymongo\n"
   ]
  },
  {
   "cell_type": "markdown",
   "metadata": {},
   "source": [
    "## Import all necessary dependencies"
   ]
  },
  {
   "cell_type": "code",
   "execution_count": 2,
   "metadata": {},
   "outputs": [],
   "source": [
    "import sys\n",
    "import numpy as np\n",
    "np.set_printoptions(threshold=sys.maxsize)\n",
    "from tifffile import imread\n",
    "from PIL import Image,ImageOps, ImageEnhance, ImagePalette\n",
    "from scipy.ndimage import rotate\n",
    "import json"
   ]
  },
  {
   "cell_type": "markdown",
   "metadata": {},
   "source": [
    "## Tutorial preparation: Create both examples\n",
    "The first one is a simple 4x4 matrix flipped around.\n",
    "The second one is a more complex example with 8 images"
   ]
  },
  {
   "cell_type": "code",
   "execution_count": 3,
   "metadata": {},
   "outputs": [],
   "source": [
    "# setting up the  images for the first example\n",
    "a = np.zeros((4,4), np.int32)\n",
    "a[:2] = 1\n",
    "example1_images = []\n",
    "example1_images.append(a)\n",
    "b = a.copy()\n",
    "b[:2] =2\n",
    "example1_images.append(np.flip(b.transpose()))\n",
    "c = a.copy()\n",
    "c[:2] =3\n",
    "example1_images.append(np.flip(c))\n",
    "d = a.copy()\n",
    "d[:2] =4\n",
    "example1_images.append(d.transpose())"
   ]
  },
  {
   "cell_type": "code",
   "execution_count": 4,
   "metadata": {},
   "outputs": [
    {
     "data": {
      "text/plain": [
       "[array([[1, 1, 1, 1],\n",
       "        [1, 1, 1, 1],\n",
       "        [0, 0, 0, 0],\n",
       "        [0, 0, 0, 0]]),\n",
       " array([[0, 0, 2, 2],\n",
       "        [0, 0, 2, 2],\n",
       "        [0, 0, 2, 2],\n",
       "        [0, 0, 2, 2]]),\n",
       " array([[0, 0, 0, 0],\n",
       "        [0, 0, 0, 0],\n",
       "        [3, 3, 3, 3],\n",
       "        [3, 3, 3, 3]]),\n",
       " array([[4, 4, 0, 0],\n",
       "        [4, 4, 0, 0],\n",
       "        [4, 4, 0, 0],\n",
       "        [4, 4, 0, 0]])]"
      ]
     },
     "metadata": {},
     "output_type": "display_data"
    }
   ],
   "source": [
    "display(example1_images)"
   ]
  },
  {
   "cell_type": "code",
   "execution_count": 5,
   "metadata": {},
   "outputs": [],
   "source": [
    "# setting up the images for second example\n",
    "example2_images = []\n",
    "example2_images.append(np.invert(imread(\"up_big.tif\")))\n",
    "example2_images[0][example2_images[0]>0] = 130\n",
    "example2_images.append(rotate(np.transpose(np.flip(example2_images[0]).copy()), angle=45, reshape=False, mode=\"constant\", cval=0))\n",
    "example2_images[1][example2_images[1]>0] = 131\n",
    "example2_images.append(np.transpose(np.flip(example2_images[0]).copy()))\n",
    "example2_images[2][example2_images[2]>0] = 132\n",
    "example2_images.append(rotate(np.flip(example2_images[0]).copy(), angle=45, reshape=False, mode=\"constant\", cval=0))\n",
    "example2_images[3][example2_images[3]>0] = 133\n",
    "example2_images.append(np.flip(example2_images[0]).copy())\n",
    "example2_images[4][example2_images[4]>0] = 134\n",
    "example2_images.append(rotate(np.transpose(example2_images[0]).copy(), angle=45, reshape=False, mode=\"constant\", cval=0))\n",
    "example2_images[5][example2_images[5]>0] = 135\n",
    "example2_images.append(np.transpose(example2_images[0]).copy())\n",
    "example2_images[6][example2_images[6]>0] = 136\n",
    "example2_images.append(rotate(example2_images[0], angle=45, reshape=False, mode=\"constant\", cval=0))\n",
    "example2_images[7][example2_images[7]>0] = 137"
   ]
  },
  {
   "cell_type": "code",
   "execution_count": 12,
   "metadata": {},
   "outputs": [
    {
     "data": {
      "text/plain": [
       "<matplotlib.image.AxesImage at 0x2036653a6a0>"
      ]
     },
     "execution_count": 12,
     "metadata": {},
     "output_type": "execute_result"
    },
    {
     "data": {
      "image/png": "[encoded data removed]",
      "text/plain": [
       "<Figure size 432x288 with 1 Axes>"
      ]
     },
     "metadata": {
      "needs_background": "light"
     },
     "output_type": "display_data"
    }
   ],
   "source": [
    "import matplotlib.pyplot as plt\n",
    "plt.imshow(example2_images[2])"
   ]
  },
  {
   "cell_type": "markdown",
   "metadata": {},
   "source": [
    "# Important part starts here\n",
    "\n",
    "\n",
    "## Example 1a: Iterate over all images, simple 4x4 matrix\n",
    "All images must have the same shape and the ids used must be unique, otherwise it is possible that wrong fragments are created."
   ]
  },
  {
   "cell_type": "code",
   "execution_count": 45,
   "metadata": {},
   "outputs": [],
   "source": [
    "import Labeling as lb\n",
    "\n",
    "merger = lb.Labeling.fromValues(first_image=example1_images[0])\n",
    "merger.iterate_over_images(example1_images[1:])\n",
    "img, labeling = merger.save_result(\"example1\")"
   ]
  },
  {
   "cell_type": "code",
   "execution_count": 46,
   "metadata": {
    "scrolled": true
   },
   "outputs": [
    {
     "data": {
      "text/plain": [
       "array([[1, 1, 1, 1],\n",
       "       [1, 1, 1, 1],\n",
       "       [0, 0, 0, 0],\n",
       "       [0, 0, 0, 0]])"
      ]
     },
     "metadata": {},
     "output_type": "display_data"
    },
    {
     "data": {
      "text/plain": [
       "array([[6, 6, 3, 3],\n",
       "       [6, 6, 3, 3],\n",
       "       [7, 7, 4, 4],\n",
       "       [7, 7, 4, 4]])"
      ]
     },
     "metadata": {},
     "output_type": "display_data"
    },
    {
     "data": {
      "text/plain": [
       "{'version': 1,\n",
       " 'numSets': 5,\n",
       " 'indexImg': 'placeholder.tif',\n",
       " 'labelMapping': {},\n",
       " 'labelSets': {'0': [], '1': [3, 6], '2': [3, 4], '3': [4, 7], '4': [6, 7]}}"
      ]
     },
     "metadata": {},
     "output_type": "display_data"
    }
   ],
   "source": [
    "display(example1_images[0])\n",
    "display(img)\n",
    "display(vars(labeling))"
   ]
  },
  {
   "cell_type": "markdown",
   "metadata": {},
   "source": [
    "## Example 1b: Add patches to the result, here iteration over sliced images\n",
    "A patch is a n by m pixel sized subimage which can be added at any place (described by x,y params) in the result, \n",
    "but the whole patch must be inside the result image.\n",
    "Constraints:\n",
    "n+x <= width of image\n",
    "m+y <= height of image\n",
    "Important code points are marked with a comment"
   ]
  },
  {
   "cell_type": "code",
   "execution_count": 47,
   "metadata": {},
   "outputs": [
    {
     "ename": "IndexError",
     "evalue": "invalid index to scalar variable.",
     "output_type": "error",
     "traceback": [
      "\u001b[1;31m---------------------------------------------------------------------------\u001b[0m",
      "\u001b[1;31mIndexError\u001b[0m                                Traceback (most recent call last)",
      "\u001b[1;32m<ipython-input-47-c99bc6b0b07d>\u001b[0m in \u001b[0;36m<module>\u001b[1;34m\u001b[0m\n\u001b[0;32m     11\u001b[0m         \u001b[1;32mfor\u001b[0m \u001b[0mpatch\u001b[0m \u001b[1;32min\u001b[0m \u001b[0mpatchList\u001b[0m\u001b[1;33m:\u001b[0m\u001b[1;33m\u001b[0m\u001b[1;33m\u001b[0m\u001b[0m\n\u001b[0;32m     12\u001b[0m             \u001b[1;31m# add a patch at the defined spot\u001b[0m\u001b[1;33m\u001b[0m\u001b[1;33m\u001b[0m\u001b[1;33m\u001b[0m\u001b[0m\n\u001b[1;32m---> 13\u001b[1;33m             \u001b[0mmerger\u001b[0m\u001b[1;33m.\u001b[0m\u001b[0madd_segments\u001b[0m\u001b[1;33m(\u001b[0m\u001b[0mpatch\u001b[0m\u001b[1;33m,\u001b[0m \u001b[1;33m(\u001b[0m\u001b[0mx\u001b[0m\u001b[1;33m,\u001b[0m \u001b[0my\u001b[0m\u001b[1;33m)\u001b[0m\u001b[1;33m)\u001b[0m\u001b[1;33m\u001b[0m\u001b[1;33m\u001b[0m\u001b[0m\n\u001b[0m\u001b[0;32m     14\u001b[0m             \u001b[0my\u001b[0m \u001b[1;33m+=\u001b[0m \u001b[0mpatch_size\u001b[0m\u001b[1;33m\u001b[0m\u001b[1;33m\u001b[0m\u001b[0m\n\u001b[0;32m     15\u001b[0m         \u001b[0my\u001b[0m \u001b[1;33m=\u001b[0m \u001b[1;36m0\u001b[0m\u001b[1;33m\u001b[0m\u001b[1;33m\u001b[0m\u001b[0m\n",
      "\u001b[1;32mC:\\mpicbg\\workspace_py\\metaseg_py\\Labeling.py\u001b[0m in \u001b[0;36madd_segments\u001b[1;34m(self, patch, position, merge)\u001b[0m\n\u001b[0;32m    116\u001b[0m         \u001b[1;32mfor\u001b[0m \u001b[0mid_id\u001b[0m\u001b[1;33m,\u001b[0m \u001b[0mlabel\u001b[0m \u001b[1;32min\u001b[0m \u001b[0munique_map_id_id_label\u001b[0m\u001b[1;33m.\u001b[0m\u001b[0mitems\u001b[0m\u001b[1;33m(\u001b[0m\u001b[1;33m)\u001b[0m\u001b[1;33m:\u001b[0m\u001b[1;33m\u001b[0m\u001b[1;33m\u001b[0m\u001b[0m\n\u001b[0;32m    117\u001b[0m             \u001b[0mprint\u001b[0m\u001b[1;33m(\u001b[0m\u001b[0mid_id\u001b[0m\u001b[1;33m)\u001b[0m\u001b[1;33m\u001b[0m\u001b[1;33m\u001b[0m\u001b[0m\n\u001b[1;32m--> 118\u001b[1;33m             \u001b[1;32mfor\u001b[0m \u001b[0mkey\u001b[0m\u001b[1;33m,\u001b[0m \u001b[0mvalue\u001b[0m \u001b[1;32min\u001b[0m \u001b[0mself\u001b[0m\u001b[1;33m.\u001b[0m\u001b[0mlabel_sets\u001b[0m\u001b[1;33m.\u001b[0m\u001b[0mitems\u001b[0m\u001b[1;33m(\u001b[0m\u001b[1;33m)\u001b[0m\u001b[1;33m:\u001b[0m\u001b[1;33m\u001b[0m\u001b[1;33m\u001b[0m\u001b[0m\n\u001b[0m\u001b[0;32m    119\u001b[0m \u001b[1;33m\u001b[0m\u001b[0m\n\u001b[0;32m    120\u001b[0m                 \u001b[1;32mif\u001b[0m \u001b[0mid_id\u001b[0m \u001b[1;32min\u001b[0m \u001b[0mvalue\u001b[0m\u001b[1;33m:\u001b[0m\u001b[1;33m\u001b[0m\u001b[1;33m\u001b[0m\u001b[0m\n",
      "\u001b[1;31mIndexError\u001b[0m: invalid index to scalar variable."
     ]
    }
   ],
   "source": [
    "# Initialize the merger with the first image. This can also be an empty image of zeros in the correct shape\n",
    "merger = lb.Labeling.fromValues(first_image=example1_images[0])\n",
    "patch_size = 2\n",
    "for image in example1_images[1:]:\n",
    "    #start position\n",
    "    x, y = 0, 0\n",
    "    #create 2x2 patches from each image\n",
    "    patches = np.vsplit(image, int(image.shape[0] / patch_size))\n",
    "    patches = [np.hsplit(seg, int(image.shape[1] / patch_size)) for seg in patches]\n",
    "    for patchList in patches:\n",
    "        for patch in patchList:\n",
    "            # add a patch at the defined spot\n",
    "            merger.add_segments(patch, (x, y))\n",
    "            y += patch_size\n",
    "        y = 0\n",
    "        \n",
    "        x += patch_size\n",
    "labeling = merger.save_result(\"example1\")\n",
    "#add_anything(data, (x,y,z):Tuple, merge:dict=None)\n",
    "# returns dict of actual labels dif"
   ]
  },
  {
   "cell_type": "code",
   "execution_count": 17,
   "metadata": {},
   "outputs": [
    {
     "data": {
      "text/plain": [
       "array([[6, 6, 2, 2],\n",
       "       [6, 6, 2, 2],\n",
       "       [7, 7, 5, 5],\n",
       "       [7, 7, 5, 5]])"
      ]
     },
     "metadata": {},
     "output_type": "display_data"
    },
    {
     "data": {
      "text/plain": [
       "{'version': 1,\n",
       " 'numSets': 5,\n",
       " 'indexImg': 'example1.tif',\n",
       " 'labelMapping': {},\n",
       " 'labelSets': {'0': [], '1': [2, 6], '2': [2, 5], '3': [5, 7], '4': [6, 7]}}"
      ]
     },
     "metadata": {},
     "output_type": "display_data"
    }
   ],
   "source": [
    "display(example1_images[0])\n",
    "display(img)\n",
    "display(vars(labeling))"
   ]
  },
  {
   "cell_type": "markdown",
   "metadata": {},
   "source": [
    "### Notice: the two methods do NOT create the same result in terms of values in the image, but the sets are the still the same"
   ]
  },
  {
   "cell_type": "markdown",
   "metadata": {},
   "source": [
    "## Example 2a: Iterate over all images, more complex"
   ]
  },
  {
   "cell_type": "code",
   "execution_count": 21,
   "metadata": {
    "scrolled": true
   },
   "outputs": [
    {
     "data": {
      "text/plain": [
       "[0, 130]"
      ]
     },
     "metadata": {},
     "output_type": "display_data"
    },
    {
     "data": {
      "text/plain": [
       "[0, 130, 131, 132, 133, 134, 135, 136, 137]"
      ]
     },
     "metadata": {},
     "output_type": "display_data"
    }
   ],
   "source": [
    "merger = msm.MetaSegmentMerger.fromValues(first_image=example2_images[0])\n",
    "display(merger.list_of_unique_ids)\n",
    "merger.iterate_over_images(example2_images[1:])\n",
    "display(merger.list_of_unique_ids)\n",
    "labeling2 = merger.save_result(\"example2\")"
   ]
  },
  {
   "cell_type": "code",
   "execution_count": 22,
   "metadata": {
    "scrolled": true
   },
   "outputs": [
    {
     "data": {
      "image/png": "[encoded data removed]",
      "text/plain": [
       "<PIL.Image.Image image mode=L size=512x512 at 0x2036683EFD0>"
      ]
     },
     "metadata": {},
     "output_type": "display_data"
    }
   ],
   "source": [
    "display(ImageOps.equalize(ImageOps.autocontrast(Image.fromarray(labeling2.img), ignore=0)))\n"
   ]
  },
  {
   "cell_type": "code",
   "execution_count": 23,
   "metadata": {
    "scrolled": true
   },
   "outputs": [
    {
     "data": {
      "text/plain": [
       "{'version': 1,\n",
       " 'numSets': 9,\n",
       " 'indexImg': 'example2.tif',\n",
       " 'labelMapping': {},\n",
       " 'labelSets': {'0': [],\n",
       "  '1': [1, 3, 4, 7, 9, 43, 44, 46, 47, 48, 50, 51, 52, 53, 54, 55],\n",
       "  '2': [2,\n",
       "   3,\n",
       "   4,\n",
       "   5,\n",
       "   7,\n",
       "   8,\n",
       "   9,\n",
       "   17,\n",
       "   22,\n",
       "   24,\n",
       "   28,\n",
       "   29,\n",
       "   44,\n",
       "   47,\n",
       "   48,\n",
       "   51,\n",
       "   52,\n",
       "   53,\n",
       "   54,\n",
       "   55,\n",
       "   56,\n",
       "   57,\n",
       "   59,\n",
       "   60,\n",
       "   63],\n",
       "  '3': [4, 5, 6, 7, 8, 12, 16, 17, 48, 52, 24, 59, 60, 29, 30],\n",
       "  '4': [7,\n",
       "   8,\n",
       "   9,\n",
       "   11,\n",
       "   12,\n",
       "   13,\n",
       "   16,\n",
       "   17,\n",
       "   24,\n",
       "   26,\n",
       "   28,\n",
       "   29,\n",
       "   30,\n",
       "   40,\n",
       "   52,\n",
       "   54,\n",
       "   55,\n",
       "   57,\n",
       "   58,\n",
       "   59,\n",
       "   60,\n",
       "   61,\n",
       "   62,\n",
       "   63,\n",
       "   65],\n",
       "  '5': [64, 65, 66, 40, 41, 13, 14, 16, 17, 30, 26, 27, 28, 29, 62, 63],\n",
       "  '6': [18,\n",
       "   22,\n",
       "   24,\n",
       "   26,\n",
       "   27,\n",
       "   28,\n",
       "   29,\n",
       "   30,\n",
       "   34,\n",
       "   40,\n",
       "   41,\n",
       "   49,\n",
       "   50,\n",
       "   51,\n",
       "   53,\n",
       "   55,\n",
       "   56,\n",
       "   57,\n",
       "   59,\n",
       "   61,\n",
       "   62,\n",
       "   63,\n",
       "   64,\n",
       "   65,\n",
       "   66],\n",
       "  '7': [64, 34, 40, 41, 45, 46, 47, 49, 50, 51, 56, 57, 61, 62, 31],\n",
       "  '8': [42,\n",
       "   43,\n",
       "   44,\n",
       "   45,\n",
       "   46,\n",
       "   47,\n",
       "   48,\n",
       "   49,\n",
       "   50,\n",
       "   51,\n",
       "   52,\n",
       "   53,\n",
       "   54,\n",
       "   55,\n",
       "   56,\n",
       "   57,\n",
       "   58,\n",
       "   59,\n",
       "   60,\n",
       "   61,\n",
       "   62,\n",
       "   63,\n",
       "   64,\n",
       "   65,\n",
       "   66]}}"
      ]
     },
     "metadata": {},
     "output_type": "display_data"
    }
   ],
   "source": [
    "display(vars(labeling2.labels))"
   ]
  },
  {
   "cell_type": "markdown",
   "metadata": {},
   "source": [
    "## Example 2b: Add patches to the result, here iteration over sliced images\n",
    "A patch is a n by m pixel sized subimage which can be added at any place (described by x,y params) in the result, \n",
    "but the whole patch must be inside the result image.\n",
    "The size of the patch is not important and may depend on your algorithm to create the patches. There is also no need for it to be quadratic.\n",
    "Constraints:\n",
    "n+x <= width of image\n",
    "m+y <= height of image"
   ]
  },
  {
   "cell_type": "code",
   "execution_count": 24,
   "metadata": {},
   "outputs": [],
   "source": [
    "merger = msm.MetaSegmentMerger.fromValues(first_image=example2_images[0])\n",
    "patch_size = 64 \n",
    "for image in example2_images[1:]:\n",
    "    #start position\n",
    "    x, y = 0, 0\n",
    "    #create 64x64 patches from each image\n",
    "    patches = np.vsplit(image, int(image.shape[0] / patch_size))\n",
    "    patches = [np.hsplit(seg, int(image.shape[1] / patch_size)) for seg in patches]\n",
    "    for patchList in patches:\n",
    "        for patch in patchList:\n",
    "            merger.add_segments(patch, x, y)\n",
    "            y += patch_size\n",
    "        y = 0\n",
    "        x += patch_size\n",
    "labeling = merger.save_result(\"example2\")"
   ]
  },
  {
   "cell_type": "code",
   "execution_count": 25,
   "metadata": {
    "scrolled": true
   },
   "outputs": [
    {
     "data": {
      "image/png": "[encoded data removed]",
      "text/plain": [
       "<PIL.Image.Image image mode=L size=512x512 at 0x20366491340>"
      ]
     },
     "metadata": {},
     "output_type": "display_data"
    },
    {
     "data": {
      "text/plain": [
       "{'version': 1,\n",
       " 'numSets': 9,\n",
       " 'indexImg': 'example2.tif',\n",
       " 'labelMapping': {},\n",
       " 'labelSets': {'0': [],\n",
       "  '1': [1, 3, 4, 7, 10, 43, 45, 46, 48, 49, 50, 51, 52, 56, 57, 58],\n",
       "  '2': [2,\n",
       "   3,\n",
       "   4,\n",
       "   5,\n",
       "   7,\n",
       "   10,\n",
       "   11,\n",
       "   17,\n",
       "   22,\n",
       "   24,\n",
       "   28,\n",
       "   29,\n",
       "   46,\n",
       "   48,\n",
       "   50,\n",
       "   51,\n",
       "   52,\n",
       "   53,\n",
       "   54,\n",
       "   56,\n",
       "   57,\n",
       "   58,\n",
       "   59,\n",
       "   60,\n",
       "   63],\n",
       "  '3': [4, 5, 6, 10, 11, 12, 16, 17, 24, 57, 56, 59, 60, 29, 30],\n",
       "  '4': [7,\n",
       "   9,\n",
       "   10,\n",
       "   11,\n",
       "   12,\n",
       "   14,\n",
       "   16,\n",
       "   17,\n",
       "   24,\n",
       "   27,\n",
       "   28,\n",
       "   29,\n",
       "   30,\n",
       "   41,\n",
       "   52,\n",
       "   54,\n",
       "   55,\n",
       "   57,\n",
       "   58,\n",
       "   59,\n",
       "   60,\n",
       "   61,\n",
       "   62,\n",
       "   63,\n",
       "   65],\n",
       "  '5': [64, 65, 66, 39, 41, 13, 14, 16, 17, 30, 25, 27, 28, 29, 62, 63],\n",
       "  '6': [18,\n",
       "   22,\n",
       "   24,\n",
       "   25,\n",
       "   27,\n",
       "   28,\n",
       "   29,\n",
       "   30,\n",
       "   33,\n",
       "   39,\n",
       "   41,\n",
       "   47,\n",
       "   49,\n",
       "   50,\n",
       "   51,\n",
       "   52,\n",
       "   53,\n",
       "   54,\n",
       "   59,\n",
       "   61,\n",
       "   62,\n",
       "   63,\n",
       "   64,\n",
       "   65,\n",
       "   66],\n",
       "  '7': [64, 33, 39, 41, 44, 45, 47, 48, 49, 50, 53, 54, 61, 62, 31],\n",
       "  '8': [42,\n",
       "   43,\n",
       "   44,\n",
       "   45,\n",
       "   46,\n",
       "   47,\n",
       "   48,\n",
       "   49,\n",
       "   50,\n",
       "   51,\n",
       "   52,\n",
       "   53,\n",
       "   54,\n",
       "   55,\n",
       "   56,\n",
       "   57,\n",
       "   58,\n",
       "   59,\n",
       "   60,\n",
       "   61,\n",
       "   62,\n",
       "   63,\n",
       "   64,\n",
       "   65,\n",
       "   66]}}"
      ]
     },
     "metadata": {},
     "output_type": "display_data"
    }
   ],
   "source": [
    "display(ImageOps.equalize(ImageOps.autocontrast(Image.fromarray(labeling.img), ignore=0)))\n",
    "display(vars(labeling.labels))"
   ]
  },
  {
   "cell_type": "markdown",
   "metadata": {},
   "source": [
    "## Example 3: Loading data from file\n",
    "The image is expected to be in the same folder as the .bson-File by default.\n",
    "The examples above provide just that."
   ]
  },
  {
   "cell_type": "code",
   "execution_count": 26,
   "metadata": {},
   "outputs": [
    {
     "data": {
      "text/plain": [
       "array([[6, 6, 3, 3],\n",
       "       [6, 6, 3, 3],\n",
       "       [7, 7, 4, 4],\n",
       "       [7, 7, 4, 4]], dtype=int32)"
      ]
     },
     "metadata": {},
     "output_type": "display_data"
    },
    {
     "data": {
      "text/plain": [
       "{'version': 1,\n",
       " 'numSets': 5,\n",
       " 'indexImg': 'example1.tif',\n",
       " 'labelMapping': {},\n",
       " 'labelSets': {'0': [], '1': [3, 6], '2': [3, 4], '3': [4, 7], '4': [6, 7]}}"
      ]
     },
     "metadata": {},
     "output_type": "display_data"
    }
   ],
   "source": [
    "loaded_labeling = bc.Labeling.from_file('example1.bson')\n",
    "display(loaded_labeling.img)\n",
    "display(vars(loaded_labeling.labels))"
   ]
  },
  {
   "cell_type": "code",
   "execution_count": null,
   "metadata": {},
   "outputs": [],
   "source": []
  }
 ],
 "metadata": {
  "kernelspec": {
   "display_name": "Python 3",
   "language": "python",
   "name": "python3"
  },
  "language_info": {
   "codemirror_mode": {
    "name": "ipython",
    "version": 3
   },
   "file_extension": ".py",
   "mimetype": "text/x-python",
   "name": "python",
   "nbconvert_exporter": "python",
   "pygments_lexer": "ipython3",
   "version": "3.8.3"
  }
 },
 "nbformat": 4,
 "nbformat_minor": 4
}
