{
 "cells": [
  {
   "cell_type": "markdown",
   "metadata": {},
   "source": [
    "# only run this if you need to install any of those packages\n",
    "import sys\n",
    "!conda install --yes --prefix {sys.prefix} tifffile\n",
    "!conda install --yes --prefix {sys.prefix} numpy\n",
    "!conda install --yes --prefix {sys.prefix} matplotlib\n",
    "!conda install --yes --prefix {sys.prefix} scipy\n",
    "!conda install --yes --prefix {sys.prefix} pymongo\n"
   ]
  },
  {
   "cell_type": "markdown",
   "metadata": {},
   "source": [
    "## Import all necessary dependencies"
   ]
  },
  {
   "cell_type": "code",
   "execution_count": null,
   "metadata": {},
   "outputs": [],
   "source": [
    "import sys\n",
    "import numpy as np\n",
    "np.set_printoptions(threshold=sys.maxsize)\n",
    "from tifffile import imread\n",
    "from PIL import Image,ImageOps, ImageEnhance, ImagePalette\n",
    "from scipy.ndimage import rotate\n",
    "import json"
   ]
  },
  {
   "cell_type": "markdown",
   "metadata": {},
   "source": [
    "## Tutorial preparation: Create both examples\n",
    "The first one is a simple 4x4 matrix flipped around.\n",
    "The second one is a more complex example with 8 images"
   ]
  },
  {
   "cell_type": "code",
   "execution_count": null,
   "metadata": {},
   "outputs": [],
   "source": [
    "# setting up the  images for the first example\n",
    "a = np.zeros((4,4), np.int32)\n",
    "a[:2] = 1\n",
    "example1_images = []\n",
    "example1_images.append(a)\n",
    "b = a.copy()\n",
    "b[:2] =2\n",
    "example1_images.append(np.flip(b.transpose()))\n",
    "c = a.copy()\n",
    "c[:2] =3\n",
    "example1_images.append(np.flip(c))\n",
    "d = a.copy()\n",
    "d[:2] =4\n",
    "example1_images.append(d.transpose())"
   ]
  },
  {
   "cell_type": "code",
   "execution_count": null,
   "metadata": {},
   "outputs": [],
   "source": [
    "# setting up the images for second example\n",
    "example2_images = []\n",
    "example2_images.append(np.invert(imread(\"up_big.tif\")))\n",
    "example2_images[0][example2_images[0]>0] = 130\n",
    "example2_images.append(rotate(np.transpose(np.flip(example2_images[0]).copy()), angle=45, reshape=False, mode=\"constant\", cval=0))\n",
    "example2_images[1][example2_images[1]>0] = 131\n",
    "example2_images.append(np.transpose(np.flip(example2_images[0]).copy()))\n",
    "example2_images[2][example2_images[2]>0] = 132\n",
    "example2_images.append(rotate(np.flip(example2_images[0]).copy(), angle=45, reshape=False, mode=\"constant\", cval=0))\n",
    "example2_images[3][example2_images[3]>0] = 133\n",
    "example2_images.append(np.flip(example2_images[0]).copy())\n",
    "example2_images[4][example2_images[4]>0] = 134\n",
    "example2_images.append(rotate(np.transpose(example2_images[0]).copy(), angle=45, reshape=False, mode=\"constant\", cval=0))\n",
    "example2_images[5][example2_images[5]>0] = 135\n",
    "example2_images.append(np.transpose(example2_images[0]).copy())\n",
    "example2_images[6][example2_images[6]>0] = 136\n",
    "example2_images.append(rotate(example2_images[0], angle=45, reshape=False, mode=\"constant\", cval=0))\n",
    "example2_images[7][example2_images[7]>0] = 137"
   ]
  },
  {
   "cell_type": "markdown",
   "metadata": {},
   "source": [
    "# Important part starts here\n",
    "\n",
    "\n",
    "## Example 1a: Iterate over all images, simple 4x4 matrix\n",
    "All images must have the same shape and the ids used must be unique, otherwise it is possible that wrong fragments are created."
   ]
  },
  {
   "cell_type": "code",
   "execution_count": null,
   "metadata": {},
   "outputs": [],
   "source": [
    "import bsoncontainer as bc\n",
    "import MetaSegmentMerger as msm\n",
    "\n",
    "merger = msm.MetaSegmentMerger.fromValues(first_image=example1_images[0])\n",
    "merger.iterate_over_images(example1_images[1:])\n",
    "labeling = merger.save_result(\"example1\")"
   ]
  },
  {
   "cell_type": "code",
   "execution_count": null,
   "metadata": {},
   "outputs": [],
   "source": [
    "display(labeling.img)\n",
    "display(vars(labeling.labels))"
   ]
  },
  {
   "cell_type": "markdown",
   "metadata": {},
   "source": [
    "## Example 1b: Add patches to the result, here iteration over sliced images\n",
    "A patch is a n by m pixel sized subimage which can be added at any place (described by x,y params) in the result, \n",
    "but the whole patch must be inside the result image.\n",
    "Constraints:\n",
    "n+x <= width of image\n",
    "m+y <= height of image\n",
    "Important code points are marked with a comment"
   ]
  },
  {
   "cell_type": "code",
   "execution_count": null,
   "metadata": {},
   "outputs": [],
   "source": [
    "# Initialize the merger with the first image. This can also be an empty image of zeros in the correct shape\n",
    "merger = msm.MetaSegmentMerger.fromValues(first_image=example1_images[0])\n",
    "patch_size = 2\n",
    "for image in example1_images[1:]:\n",
    "    #start position\n",
    "    x, y = 0, 0\n",
    "    #create 2x2 patches from each image\n",
    "    patches = np.vsplit(image, int(image.shape[0] / patch_size))\n",
    "    patches = [np.hsplit(seg, int(image.shape[1] / patch_size)) for seg in patches]\n",
    "    for patchList in patches:\n",
    "        for patch in patchList:\n",
    "            # add a patch at the defined spot\n",
    "            merger.add_segments(patch, x, y)\n",
    "            y += patch_size\n",
    "        y = 0\n",
    "        x += patch_size\n",
    "labeling = merger.save_result(\"example1\")"
   ]
  },
  {
   "cell_type": "code",
   "execution_count": null,
   "metadata": {},
   "outputs": [],
   "source": [
    "display(labeling.img)\n",
    "display(vars(labeling.labels))"
   ]
  },
  {
   "cell_type": "markdown",
   "metadata": {},
   "source": [
    "### Notice: the two methods do NOT create the same result in terms of values in the image, but the sets are the still the same"
   ]
  },
  {
   "cell_type": "markdown",
   "metadata": {},
   "source": [
    "## Example 2a: Iterate over all images, more complex"
   ]
  },
  {
   "cell_type": "code",
   "execution_count": null,
   "metadata": {
    "scrolled": true
   },
   "outputs": [],
   "source": [
    "merger = msm.MetaSegmentMerger.fromValues(first_image=example2_images[0])\n",
    "display(merger.list_of_unique_ids)\n",
    "merger.iterate_over_images(example2_images[1:])\n",
    "display(merger.list_of_unique_ids)\n",
    "labeling2 = merger.save_result(\"example2\")"
   ]
  },
  {
   "cell_type": "code",
   "execution_count": null,
   "metadata": {
    "scrolled": true
   },
   "outputs": [],
   "source": [
    "display(ImageOps.equalize(ImageOps.autocontrast(Image.fromarray(labeling2.img), ignore=0)))\n"
   ]
  },
  {
   "cell_type": "code",
   "execution_count": null,
   "metadata": {
    "scrolled": true
   },
   "outputs": [],
   "source": [
    "display(vars(labeling2.labels))"
   ]
  },
  {
   "cell_type": "markdown",
   "metadata": {},
   "source": [
    "## Example 2b: Add patches to the result, here iteration over sliced images\n",
    "A patch is a n by m pixel sized subimage which can be added at any place (described by x,y params) in the result, \n",
    "but the whole patch must be inside the result image.\n",
    "The size of the patch is not important and may depend on your algorithm to create the patches. There is also no need for it to be quadratic.\n",
    "Constraints:\n",
    "n+x <= width of image\n",
    "m+y <= height of image"
   ]
  },
  {
   "cell_type": "code",
   "execution_count": null,
   "metadata": {},
   "outputs": [],
   "source": [
    "merger = msm.MetaSegmentMerger.fromValues(first_image=example2_images[0])\n",
    "patch_size = 64 \n",
    "for image in example2_images[1:]:\n",
    "    #start position\n",
    "    x, y = 0, 0\n",
    "    #create 64x64 patches from each image\n",
    "    patches = np.vsplit(image, int(image.shape[0] / patch_size))\n",
    "    patches = [np.hsplit(seg, int(image.shape[1] / patch_size)) for seg in patches]\n",
    "    for patchList in patches:\n",
    "        for patch in patchList:\n",
    "            merger.add_segments(patch, x, y)\n",
    "            y += patch_size\n",
    "        y = 0\n",
    "        x += patch_size\n",
    "labeling = merger.save_result(\"example2\")"
   ]
  },
  {
   "cell_type": "code",
   "execution_count": null,
   "metadata": {
    "scrolled": true
   },
   "outputs": [],
   "source": [
    "display(ImageOps.equalize(ImageOps.autocontrast(Image.fromarray(labeling.img), ignore=0)))\n",
    "display(vars(labeling.labels))"
   ]
  },
  {
   "cell_type": "markdown",
   "metadata": {},
   "source": [
    "## Example 3: Loading data from file\n",
    "The image is expected to be in the same folder as the .bson-File by default.\n",
    "The examples above provide just that."
   ]
  },
  {
   "cell_type": "code",
   "execution_count": null,
   "metadata": {},
   "outputs": [],
   "source": [
    "loaded_labeling = bc.Labeling.from_file('example1.bson')\n",
    "display(loaded_labeling.img)\n",
    "display(vars(loaded_labeling.labels))"
   ]
  },
  {
   "cell_type": "code",
   "execution_count": null,
   "metadata": {},
   "outputs": [],
   "source": []
  }
 ],
 "metadata": {
  "kernelspec": {
   "display_name": "Python 3",
   "language": "python",
   "name": "python3"
  },
  "language_info": {
   "codemirror_mode": {
    "name": "ipython",
    "version": 3
   },
   "file_extension": ".py",
   "mimetype": "text/x-python",
   "name": "python",
   "nbconvert_exporter": "python",
   "pygments_lexer": "ipython3",
   "version": "3.8.3"
  }
 },
 "nbformat": 4,
 "nbformat_minor": 4
}
